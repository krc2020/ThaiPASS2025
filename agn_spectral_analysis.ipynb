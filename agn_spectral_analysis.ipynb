{
 "cells": [
  {
   "cell_type": "markdown",
   "id": "4c84e908",
   "metadata": {},
   "source": [
    "# AGN Spectral Decomposition and Black‐Hole Mass Estimation\n",
    "\n",
    "This notebook demonstrates how to download a Sloan Digital Sky Survey (SDSS) spectrum for a selected active galactic nucleus (AGN), decompose the spectrum into host galaxy and AGN components using principal component analysis (PCA) with galaxy and quasar eigen‐spectra, fit the Hβ emission line, and compute physical quantities such as the black‑hole mass, bolometric luminosity, accretion rate and e‑folding growth time.\n",
    "\n",
    "**Note:** This notebook is designed for execution in a cloud notebook environment such as Google Colab with internet access and requires the `astroquery`, `lmfit`, and `matplotlib` packages. The eigen‐spectra files (e.g., `eigen_galaxies.npy` and `eigen_quasars.npy`) must be provided separately.\n"
   ]
  },
  {
   "cell_type": "code",
   "execution_count": null,
   "id": "42119597",
   "metadata": {},
   "outputs": [],
   "source": [
    "import pandas as pd\n",
    "import numpy as np\n",
    "import matplotlib.pyplot as plt\n",
    "from astropy import units as u\n",
    "from astropy.coordinates import SkyCoord\n",
    "from astroquery.sdss import SDSS\n",
    "from astropy.table import Table\n",
    "\n",
    "# File path to the DR16 quasar table provided in this repository\n",
    "csv_path = '/content/table_dr16_qso_krc213.csv'  # adjust path if necessary\n",
    "df = pd.read_csv(csv_path)\n",
    "print(f'The table contains {len(df)} AGN entries.')\n",
    "df.head()\n"
   ]
  },
  {
   "cell_type": "markdown",
   "id": "48dab399",
   "metadata": {},
   "source": [
    "### Select a target AGN\n",
    "\n",
    "Choose an AGN from the catalog by index, `specObjID`, or coordinates.  The SDSS spectral identification is given by `plate`, `mjd` and `fiberID`, which uniquely identify a spectrum in SDSS.  You can also use the right ascension and declination to query the nearest spectrum.  In this example we select the first row of the catalog:"
   ]
  },
  {
   "cell_type": "code",
   "execution_count": null,
   "id": "8e5cb339",
   "metadata": {},
   "outputs": [],
   "source": [
    "# Select the first AGN in the list\n",
    "idx = 0  # change this index to analyze a different object\n",
    "row = df.iloc[idx]\n",
    "\n",
    "plate = int(row['plate'])\n",
    "mjd = int(row['mjd'])\n",
    "fiber = int(row['fiberID'])\n",
    "ra = row['ra']\n",
    "dec = row['dec']\n",
    "\n",
    "print(f'Selected AGN index {idx}: plate={plate}, mjd={mjd}, fiberID={fiber}, ra={ra:.5f}, dec={dec:.5f}')\n"
   ]
  },
  {
   "cell_type": "markdown",
   "id": "5bebc138",
   "metadata": {},
   "source": [
    "### Download the SDSS spectrum\n",
    "\n",
    "Use `astroquery.sdss.SDSS` to retrieve the calibrated spectrum.  You can query by `plate`, `mjd` and `fiberID` or by sky coordinates within a search radius:"
   ]
  },
  {
   "cell_type": "code",
   "execution_count": null,
   "id": "200d00ab",
   "metadata": {},
   "outputs": [],
   "source": [
    "# Query the SDSS archive for the spectrum\n",
    "# Using plate, mjd, fiberID:\n",
    "spec_list = SDSS.get_spectra(plate=plate, mjd=mjd, fiberID=fiber)\n",
    "\n",
    "# Alternatively: use sky coordinates if plate/mjd/fiber are not known\n",
    "# coords = SkyCoord(ra* u.deg, dec* u.deg, frame='icrs')\n",
    "# spec_list = SDSS.get_spectra(matches=coords, radius=2*u.arcsec)\n",
    "\n",
    "# Retrieve the first spectrum and convert to a Pandas DataFrame\n",
    "spec = spec_list[0]\n",
    "data = spec[1].data  # table with wavelength and flux\n",
    "wave = data['loglam']  # log10 of wavelength in angstroms\n",
    "wavelength = 10**wave\n",
    "flux = data['flux']\n",
    "\n",
    "# Plot the full spectrum\n",
    "plt.figure(figsize=(10,4))\n",
    "plt.plot(wavelength, flux)\n",
    "plt.xlabel('Wavelength (Å)')\n",
    "plt.ylabel('Flux (10^-17 erg s^-1 cm^-2 Å^-1)')\n",
    "plt.title('SDSS Spectrum')\n",
    "plt.show()\n"
   ]
  },
  {
   "cell_type": "markdown",
   "id": "4bb8fc06",
   "metadata": {},
   "source": [
    "### Perform PCA decomposition\n",
    "\n",
    "Load precomputed galaxy and quasar eigen‐spectra (principal components) and perform a least‐squares fit to reconstruct the host galaxy and AGN components.  The eigenspectra must be aligned to the same wavelength grid as the observed spectrum (e.g., via interpolation).  The decomposition uses separate sets of galaxy and quasar eigenspectra to efficiently and reliably separate the AGN and host components【429195297408580†L24-L34】.  For demonstration we assume the eigenspectra are stored as NumPy arrays with shape `(n_components, n_pixels)`.\n"
   ]
  },
  {
   "cell_type": "code",
   "execution_count": null,
   "id": "343958cc",
   "metadata": {},
   "outputs": [],
   "source": [
    "# Load the eigen‐spectra arrays (replace with actual file paths)\n",
    "# eigen_gal = np.load('/content/eigen_galaxies.npy')  # shape: (Ng, n_pixels)\n",
    "# eigen_quasar = np.load('/content/eigen_quasars.npy')  # shape: (Nq, n_pixels)\n",
    "\n",
    "# Interpolate eigenspectra onto the observed wavelength grid\n",
    "# (this step is required if the wavelength grids differ)\n",
    "# from scipy.interpolate import interp1d\n",
    "\n",
    "# For example:\n",
    "# interp_gal = [interp1d(wave_eig, eig, kind='linear', bounds_error=False, fill_value=0)(wavelength) for eig in eigen_gal]\n",
    "# interp_qso = [interp1d(wave_eig, eig, kind='linear', bounds_error=False, fill_value=0)(wavelength) for eig in eigen_quasar]\n",
    "\n",
    "# Stack the galaxy and quasar eigenspectra into a design matrix\n",
    "# A = np.vstack([interp_gal, interp_qso]).T  # shape: (n_pixels, Ng+Nq)\n",
    "# b = flux  # observed flux vector\n",
    "\n",
    "# Solve the linear least squares problem to obtain coefficients\n",
    "# coeffs, residuals, rank, s = np.linalg.lstsq(A, b, rcond=None)\n",
    "# gal_coeffs = coeffs[:len(interp_gal)]\n",
    "# qso_coeffs = coeffs[len(interp_gal):]\n",
    "\n",
    "# Reconstruct the galaxy and AGN spectra\n",
    "# galaxy_spec = np.dot(gal_coeffs, interp_gal)\n",
    "# agn_spec = np.dot(qso_coeffs, interp_qso)\n",
    "\n",
    "# Plot decomposition\n",
    "# plt.figure(figsize=(10,4))\n",
    "# plt.plot(wavelength, flux, label='Observed', color='black', lw=1)\n",
    "# plt.plot(wavelength, galaxy_spec, label='Host galaxy', color='tab:blue')\n",
    "# plt.plot(wavelength, agn_spec, label='AGN component', color='tab:red', alpha=0.7)\n",
    "# plt.legend()\n",
    "# plt.xlim(3500, 7000)\n",
    "# plt.xlabel('Wavelength (Å)')\n",
    "# plt.ylabel('Flux')\n",
    "# plt.title('Eigenspectrum decomposition')\n",
    "# plt.show()\n"
   ]
  },
  {
   "cell_type": "markdown",
   "id": "c304c3f4",
   "metadata": {},
   "source": [
    "### Subtract the galaxy component\n",
    "\n",
    "Subtract the reconstructed host galaxy spectrum from the observed spectrum to produce a pure AGN spectrum.  This step removes starlight and other host contributions, isolating the broad emission lines.  In code:\n"
   ]
  },
  {
   "cell_type": "code",
   "execution_count": null,
   "id": "610f7253",
   "metadata": {},
   "outputs": [],
   "source": [
    "# pure_agn = flux - galaxy_spec\n",
    "# plt.figure(figsize=(10,4))\n",
    "# plt.plot(wavelength, pure_agn)\n",
    "# plt.xlabel('Wavelength (Å)')\n",
    "# plt.ylabel('Flux')\n",
    "# plt.title('AGN spectrum after galaxy subtraction')\n",
    "# plt.show()\n"
   ]
  },
  {
   "cell_type": "markdown",
   "id": "71e965d0",
   "metadata": {},
   "source": [
    "### Fit the Hβ emission line\n",
    "\n",
    "Estimate the continuum around the Hβ emission line and model the line profile as a sum of a narrow and a broad Gaussian component plus continuum.  We fit a linear continuum to wavelength windows free from strong emission (e.g., 4750–4830 and 4920–5000 Å in the rest frame) and subtract it.  Then we use `scipy.optimize.curve_fit` or `lmfit` to fit Gaussian functions to the continuum‐subtracted line region.\n",
    "\n",
    "The full width at half maximum (FWHM) of the broad Hβ component can be converted to velocity using the relation FWHM_velocity = \\(c \times \\Delta\\lambda / \\lambda_0\\), where \\(c\\) is the speed of light and \\(\\Delta\\lambda\\) is the measured FWHM in angstroms【982153414888892†L136-L144】.  The same relation can be used to convert line widths into km s⁻¹ when estimating black‐hole masses.\n"
   ]
  },
  {
   "cell_type": "code",
   "execution_count": null,
   "id": "ea5d14dd",
   "metadata": {},
   "outputs": [],
   "source": [
    "from scipy.optimize import curve_fit\n",
    "\n",
    "# Define Gaussian model for broad and narrow components\n",
    "\n",
    "def gaussian(x, amp, center, sigma):\n",
    "    return amp * np.exp(-0.5 * ((x - center)/sigma)**2)\n",
    "\n",
    "# Define a combined model: continuum + narrow + broad\n",
    "\n",
    "def hb_model(x, cont_slope, cont_intercept, amp_n, cen_n, sigma_n, amp_b, cen_b, sigma_b):\n",
    "    cont = cont_slope * x + cont_intercept\n",
    "    narrow = gaussian(x, amp_n, cen_n, sigma_n)\n",
    "    broad = gaussian(x, amp_b, cen_b, sigma_b)\n",
    "    return cont + narrow + broad\n",
    "\n",
    "# Convert rest wavelength 4861 Å to observed frame\n",
    "z = 0.0  # placeholder redshift; replace with measured redshift for the AGN\n",
    "lambda_hb_rest = 4861.0\n",
    "lambda_obs = lambda_hb_rest * (1 + z)\n",
    "\n",
    "# Select wavelength region around Hβ (±200 Å)\n",
    "# mask = (wavelength > lambda_obs - 200) & (wavelength < lambda_obs + 200)\n",
    "x_data = wavelength  # [mask]\n",
    "y_data = flux       # [mask]\n",
    "\n",
    "# Initial guesses: slope ~0, intercept ~median flux, approximate amplitudes and sigmas\n",
    "p0 = [0.0, np.median(y_data), \n",
    "      np.max(y_data), lambda_obs, 5.0,  # narrow component\n",
    "      np.max(y_data)/2, lambda_obs, 20.0]  # broad component\n",
    "\n",
    "# Fit the model to the data\n",
    "# popt, pcov = curve_fit(hb_model, x_data, y_data, p0=p0)\n",
    "\n",
    "# Extract fitted parameters\n",
    "# cont_slope, cont_intercept, amp_n, cen_n, sigma_n, amp_b, cen_b, sigma_b = popt\n",
    "\n",
    "# Compute FWHM of broad component in angstroms and convert to km/s\n",
    "# fwhm_angstrom = 2 * np.sqrt(2*np.log(2)) * sigma_b\n",
    "# fwhm_kms = (fwhm_angstrom / lambda_hb_rest) * 3e5\n",
    "\n",
    "# Plot fit\n",
    "# model_fit = hb_model(x_data, *popt)\n",
    "# plt.figure(figsize=(8,4))\n",
    "# plt.plot(x_data, y_data, label='Spectrum')\n",
    "# plt.plot(x_data, model_fit, label='Model fit')\n",
    "# plt.xlabel('Wavelength (Å)')\n",
    "# plt.ylabel('Flux')\n",
    "# plt.legend()\n",
    "# plt.title('Hβ line fit')\n",
    "# plt.show()\n",
    "\n"
   ]
  },
  {
   "cell_type": "markdown",
   "id": "fad09534",
   "metadata": {},
   "source": [
    "### Compute monochromatic luminosity and bolometric luminosity\n",
    "\n",
    "After subtracting the continuum and fitting the broad Hβ component, compute the monochromatic continuum luminosity at 5100 Å (rest frame) using the relation \\(L_{\\lambda} = 4\\pi d_{L}^2 f_{\\lambda}\\), where \\(d_{L}\\) is the luminosity distance and \\(f_{\\lambda}\\) is the flux density at 5100 Å.  Astronomers often report \\(\\lambda L_{\\lambda}(5100\\,\text{Å})\\).  The bolometric luminosity can be estimated from the continuum luminosity with a bolometric correction factor \\(L_{\text{bol}} \u0007pprox 9 \times \\lambda L_{\\lambda}(5100\\,\text{Å})\\)【924124004071945†L150-L159】.\n"
   ]
  },
  {
   "cell_type": "code",
   "execution_count": null,
   "id": "cecd5e32",
   "metadata": {},
   "outputs": [],
   "source": [
    "# Example calculation for monochromatic luminosity at 5100 Å\n",
    "from astropy.cosmology import Planck18 as cosmo\n",
    "\n",
    "# Suppose we measured flux density at observed 5100*(1+z) Å after continuum fit:\n",
    "# f_lambda = cont_intercept + cont_slope * (5100*(1+z))\n",
    "# d_L = cosmo.luminosity_distance(z).to(u.cm).value\n",
    "# lambda_rest = 5100.0\n",
    "# lam_L_lam = (lambda_rest * 1e-8) * 4 * np.pi * d_L**2 * f_lambda  # erg/s\n",
    "# L_bol = 9 * lam_L_lam\n",
    "\n",
    "# print('lambda L_lambda (5100 Å) =', lam_L_lam, 'erg/s')\n",
    "# print('Bolometric luminosity =', L_bol, 'erg/s')\n"
   ]
  },
  {
   "cell_type": "markdown",
   "id": "f2ded889",
   "metadata": {},
   "source": [
    "### Estimate black‐hole mass\n",
    "\n",
    "Use a single‐epoch virial estimator based on the broad Hβ line width and continuum luminosity.  Following Vestergaard & Peterson (2006) (as used in the *easyspec* code), the black‐hole mass can be computed as\n",
    "\n",
    "\\[\\log M_{\bullet} = 6.91 + 2 \\log\\left(\f",
    "rac{\\mathrm{FWHM}(\\mathrm{H}\beta)}{1000\\;\\mathrm{km\\;s}^{-1}}\r",
    "ight) + 0.5 \\log\\left(\f",
    "rac{\\lambda L_{\\lambda}(5100\\,\text{Å})}{10^{44}\\;\\mathrm{erg\\;s}^{-1}}\r",
    "ight)\\]【505461062941029†L818-L844】.\n",
    "\n",
    "Compute the Eddington luminosity as \\(L_{\text{Edd}} = 1.26 \times 10^{38} (M_{\bullet}/M_{\\odot})\\,\\mathrm{erg\\;s}^{-1}\\) for ionized gas【191268095570323†L220-L233】 and obtain the Eddington ratio \\(L_{\text{bol}} / L_{\text{Edd}}\\).\n"
   ]
  },
  {
   "cell_type": "code",
   "execution_count": null,
   "id": "04a21751",
   "metadata": {},
   "outputs": [],
   "source": [
    "# M_sun = 1.989e33  # g\n",
    "# FWHM_kms = fwhm_kms\n",
    "# lam_L_lam_44 = lam_L_lam / 1e44\n",
    "# M_bh = 10**(6.91 + 2*np.log10(FWHM_kms/1000) + 0.5*np.log10(lam_L_lam_44))  # solar masses\n",
    "\n",
    "# Compute Eddington luminosity and Eddington ratio\n",
    "# L_edd = 1.26e38 * M_bh\n",
    "# edd_ratio = L_bol / L_edd\n",
    "\n",
    "# print('Black hole mass =', M_bh, 'M_sun')\n",
    "# print('Eddington ratio =', edd_ratio)\n"
   ]
  },
  {
   "cell_type": "markdown",
   "id": "b44560ae",
   "metadata": {},
   "source": [
    "### Accretion rate and exponential growth\n",
    "\n",
    "Assuming a radiative efficiency \\(\\eta\u0007pprox 0.1\\), the mass accretion rate is \\(\\dot M = L_{\text{bol}} / (\\eta c^2)\\)【244003009144014†L33-L38】.  The Salpeter (e‐folding) time for black hole growth is\n",
    "\n",
    "\\[ t_{\text{S}} \u0007pprox 4.5\times10^{7}\\ \f",
    "rac{\\eta}{0.1}\\ \\left(\f",
    "rac{L_{\text{bol}}}{L_{\text{Edd}}}\r",
    "ight)^{-1}\\ \text{yr} \\]【893725374850037†L33-L56】.\n",
    "\n",
    "The time required for the black hole to grow from its current mass \\(M_{\bullet}\\) to a final mass \\(M_{\text{final}}\\) (e.g., \\(10^{10} M_{\\odot}\\)) under continuous Eddington‐ratio accretion is\n",
    "\n",
    "\\[ t = t_{\text{S}}\\,\\ln\\left(\f",
    "rac{M_{\text{final}}}{M_{\bullet}}\r",
    "ight). \\]\n",
    "\n",
    "Compute the accretion rate, the Salpeter time, and the growth time for the AGN.\n"
   ]
  },
  {
   "cell_type": "code",
   "execution_count": null,
   "id": "091e9b63",
   "metadata": {},
   "outputs": [],
   "source": [
    "# eta = 0.1\n",
    "# c_cm_s = 2.99792458e10\n",
    "# Mdot = L_bol / (eta * c_cm_s**2) / M_sun  # in M_sun/s\n",
    "# Mdot_per_year = Mdot * (3600*24*365)\n",
    "\n",
    "# # Salpeter time in years\n",
    "# t_salpeter = 4.5e7 * (eta / 0.1) * (L_bol / L_edd)**(-1)\n",
    "\n",
    "# # Target mass (e.g., 1e10 M_sun)\n",
    "# M_final = 1e10\n",
    "# t_growth = t_salpeter * np.log(M_final / M_bh)\n",
    "\n",
    "# print('Mass accretion rate =', Mdot_per_year, 'M_sun/yr')\n",
    "# print('Salpeter time =', t_salpeter/1e6, 'Myr')\n",
    "# print('Growth time to 1e10 M_sun =', t_growth/1e9, 'Gyr')\n",
    "\n"
   ]
  },
  {
   "cell_type": "markdown",
   "id": "85cfa162",
   "metadata": {},
   "source": [
    "## Summary\n",
    "\n",
    "This notebook outlines a workflow for downloading SDSS spectra, isolating the AGN component via PCA, fitting the Hβ emission line, and deriving physical quantities such as black‐hole mass, bolometric luminosity, accretion rate and growth time.  The approach follows recent studies that use galaxy and AGN templates to isolate the AGN contribution in SDSS spectra【563814819262489†L96-L103】 and adopt virial black‐hole mass estimators from the literature【505461062941029†L818-L844】.  The conversion from spectral line width to velocity uses the standard relation between FWHM and velocity【982153414888892†L136-L144】.  Bolometric luminosities are estimated using a 5100 Å continuum bolometric correction【924124004071945†L150-L159】, and Eddington luminosities follow the classical formula for hydrogen‐dominated gas【191268095570323†L220-L233】.  Accretion rates and e‑folding times are computed following standard accretion physics【244003009144014†L33-L38】【893725374850037†L33-L56】.\n",
    "\n",
    "Use this notebook as a template to explore a sample of AGN.  Replace placeholder values with measurements from your own spectra and adjust the fit regions and initial parameters as necessary.\n"
   ]
  }
 ],
 "metadata": {},
 "nbformat": 4,
 "nbformat_minor": 5
}
